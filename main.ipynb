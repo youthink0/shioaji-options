{
 "cells": [
  {
   "cell_type": "code",
   "execution_count": 1,
   "metadata": {},
   "outputs": [],
   "source": [
    "#!/usr/bin/env python3\n",
    "# -*- coding: utf-8 -*-\n",
    "import importlib\n",
    "import time\n",
    "import datetime\n",
    "import json\n",
    "import threading\n",
    "\n",
    "import shioaji as sj\n",
    "import login.shioaji_login as shioaji_login\n",
    "from shioaji.constant import Action, OptionRight, StockPriceType, FuturesOrderType, FuturesOCType #選擇權下單，多匯入一個OptionRight常數\n",
    "importlib.reload(shioaji_login)\n",
    "\n",
    "import tools.globals as globals\n",
    "import tools.get_snap_options as snap"
   ]
  },
  {
   "cell_type": "code",
   "execution_count": 2,
   "metadata": {},
   "outputs": [],
   "source": [
    "def update_config():\n",
    "    \"\"\"\n",
    "    Threading function.\n",
    "    每秒更新config相關參數\n",
    "    \n",
    "    :global param: get_strike_time\n",
    "    :return: None\n",
    "    \"\"\"\n",
    "\n",
    "    pre_get_strike_time = None\n",
    "    \n",
    "    while(True):\n",
    "\n",
    "        with open('config.json') as f:\n",
    "            config_data = json.load(f)\n",
    "\n",
    "            globals.get_strike_time =  datetime.datetime.strptime(config_data['get_strike_time'], '%H:%M:%S').time()\n",
    "\n",
    "            if(pre_get_strike_time != globals.get_strike_time):\n",
    "                print(f'Get strike time has been set to {globals.get_strike_time}')\n",
    "                pre_get_strike_time = globals.get_strike_time\n",
    "\n",
    "            time.sleep(1)\n",
    "\n"
   ]
  },
  {
   "cell_type": "code",
   "execution_count": 3,
   "metadata": {},
   "outputs": [],
   "source": [
    "def update_snap_options():\n",
    "    \"\"\"\n",
    "    Threading function.\n",
    "    每秒偵測,若現在時間符合get_strike_time, 則找尋當下價平 \n",
    "    \n",
    "    :global param: get_strike_time\n",
    "    :return: None\n",
    "    \"\"\"\n",
    "\n",
    "    while(True): \n",
    "        now = datetime.datetime.now()\n",
    "        \n",
    "        if(now.time().replace(microsecond=0) == globals.get_strike_time):\n",
    "            snap.get_snap_options()\n",
    "            snap.get_at_the_money_info()\n",
    "            print(\"現在價平和之檔位及成交點數和: \", globals.at_the_money_code, globals.at_the_money)\n",
    "\n",
    "        time.sleep(1)"
   ]
  },
  {
   "cell_type": "code",
   "execution_count": 4,
   "metadata": {},
   "outputs": [],
   "source": [
    "def place_cb(stat, msg):\n",
    "    \"\"\"\n",
    "    Called every time an order or a deal has been detected.\n",
    "    \n",
    "    :global param: msg_list ()\n",
    "\n",
    "    return: none\n",
    "    \"\"\"\n",
    "    print('my_place_callback')"
   ]
  },
  {
   "cell_type": "code",
   "execution_count": 5,
   "metadata": {},
   "outputs": [],
   "source": [
    "def main():\n",
    "    \"\"\"\n",
    "    Controlled whole program, make app execute.\n",
    "    \n",
    "    :global param: api\n",
    "    \"\"\"\n",
    "    # initialize all global variables\n",
    "    globals.initialize()\n",
    "\n",
    "    # log in\n",
    "    globals.api = shioaji_login.login()\n",
    "    globals.api.set_order_callback(place_cb)\n",
    "\n",
    "    # Start update config thread. All config variable will be updated every second.\n",
    "    update_config_thread = threading.Thread(target = update_config)\n",
    "    update_config_thread.start()\n",
    "    time.sleep(1)\n",
    "\n",
    "    update_snap_options_thread = threading.Thread(target = update_snap_options)\n",
    "    update_snap_options_thread.start()\n",
    "    time.sleep(1)\n",
    "\n",
    "    snap.get_snap_options()\n",
    "    snap.get_at_the_money_info()\n",
    "    print(\"現在價平和之檔位及成交點數和: \", globals.at_the_money_code, globals.at_the_money)\n",
    "    \n",
    "    # print(api.Contracts.Options.TX4)\n",
    "\n"
   ]
  },
  {
   "cell_type": "code",
   "execution_count": 6,
   "metadata": {},
   "outputs": [
    {
     "name": "stdout",
     "output_type": "stream",
     "text": [
      "Response Code: 0 | Event Code: 0 | Info: host '203.66.91.161:80', hostname '203.66.91.161:80' IP 203.66.91.161:80 (host 1 of 1) (host connection attempt 1 of 1) (total connection attempt 1 of 1) | Event: Session up\n",
      "Login with ID R124743829\n",
      "Login status: [FutureAccount(person_id='R124743829', broker_id='F002000', account_id='1697256', signed=True, username='劉庭銘'), Account(account_type=<AccountType.H: 'H'>, person_id='R124743829', broker_id='9A9X', account_id='0150198', username='劉庭銘\\u3000\\u3000\\u3000\\u3000\\u3000\\u3000\\u3000\\u3000\\u3000\\u3000\\u3000\\u3000'), StockAccount(person_id='R124743829', broker_id='9A9X', account_id='0510980', signed=True, username='劉庭銘\\u3000\\u3000')]\n",
      "Activating CA at the path C:/sinopac/Sinopac.pfx\n",
      "\n",
      "\n",
      "Get strike time has been set to 21:05:00\n",
      "現在價平和之檔位及成交點數和:  TX514600 155.0\n"
     ]
    }
   ],
   "source": [
    "if __name__ == \"__main__\":\n",
    "    main() "
   ]
  },
  {
   "cell_type": "code",
   "execution_count": 18,
   "metadata": {},
   "outputs": [
    {
     "name": "stdout",
     "output_type": "stream",
     "text": [
      "TX514600K2\n"
     ]
    },
    {
     "data": {
      "text/plain": [
       "Trade(contract=Option(code='TX514600K2', symbol='TX520221114600C', name='臺指選擇權11W5月 14600C', category='TX5', delivery_month='202211', delivery_date='2022/11/30', strike_price=14600, option_right=<OptionRight.Call: 'C'>, underlying_kind='I', unit=1, limit_up=1680.0, limit_down=0.1, reference=204.0, update_date='2022/11/28'), order=Order(action=<Action.Buy: 'Buy'>, price=6, quantity=1, account=Account(account_type=<AccountType.Future: 'F'>, person_id='R124743829', broker_id='F002000', account_id='1697256', signed=True), price_type=<StockPriceType.LMT: 'LMT'>, order_type=<FuturesOrderType.ROD: 'ROD'>), status=OrderStatus(status=<Status.Failed: 'Failed'>, status_code='74008', order_datetime=datetime.datetime(2022, 11, 28, 21, 52, 15, 808734), msg='憑證驗章失敗,請至3310憑證管理畫面憑證查詢狀態', deals=[]))"
      ]
     },
     "execution_count": 18,
     "metadata": {},
     "output_type": "execute_result"
    }
   ],
   "source": [
    "option_code = globals.at_the_money_code +  snap.get_option_code('C') # 先預設下call\n",
    "print(option_code)\n",
    "contract = globals.api.Contracts.Options[option_code] #選擇權Contract\n",
    "order = globals.api.Order(action=Action.Buy,\n",
    "    price=6, #價格\n",
    "    quantity=1, #口數\n",
    "    price_type=StockPriceType.LMT,\n",
    "    order_type=FuturesOrderType.ROD,\n",
    "    octype=FuturesOCType.Auto, #倉別，使用自動\n",
    "    OptionRight=OptionRight.Call, #選擇權類型\n",
    "    account=globals.api.futopt_account #下單帳戶指定期貨帳戶\n",
    ")\n",
    "globals.api.place_order(contract, order)"
   ]
  }
 ],
 "metadata": {
  "kernelspec": {
   "display_name": "shioaji-option",
   "language": "python",
   "name": "python3"
  },
  "language_info": {
   "codemirror_mode": {
    "name": "ipython",
    "version": 3
   },
   "file_extension": ".py",
   "mimetype": "text/x-python",
   "name": "python",
   "nbconvert_exporter": "python",
   "pygments_lexer": "ipython3",
   "version": "3.9.7"
  },
  "orig_nbformat": 4,
  "vscode": {
   "interpreter": {
    "hash": "2dcec2859f09f9aa93c3bc4f9e8c5aaba59ac2207882fb5a8dbe04739cc186d2"
   }
  }
 },
 "nbformat": 4,
 "nbformat_minor": 2
}
