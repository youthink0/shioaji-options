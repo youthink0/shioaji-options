{
 "cells": [
  {
   "cell_type": "code",
   "execution_count": 1,
   "metadata": {},
   "outputs": [],
   "source": [
    "#!/usr/bin/env python3\n",
    "# -*- coding: utf-8 -*-\n",
    "import importlib\n",
    "import time\n",
    "import datetime\n",
    "import json\n",
    "import threading\n",
    "\n",
    "import shioaji as sj\n",
    "import login.shioaji_login as shioaji_login\n",
    "from shioaji import TickFOPv1, BidAskFOPv1, Exchange\n",
    "importlib.reload(shioaji_login)\n",
    "\n",
    "import tools.globals as globals\n",
    "import tools.get_snap_options as snap"
   ]
  },
  {
   "cell_type": "code",
   "execution_count": 2,
   "metadata": {},
   "outputs": [],
   "source": [
    "def update_config():\n",
    "    \"\"\"\n",
    "    Threading function.\n",
    "    每秒更新config相關參數\n",
    "    \n",
    "    :global param: get_strike_time\n",
    "    :return: None\n",
    "    \"\"\"\n",
    "\n",
    "    pre_get_strike_time = None\n",
    "    \n",
    "    while(True):\n",
    "\n",
    "        with open('config.json') as f:\n",
    "            config_data = json.load(f)\n",
    "\n",
    "            globals.get_strike_time =  datetime.datetime.strptime(config_data['get_strike_time'], '%H:%M:%S').time()\n",
    "\n",
    "            if(pre_get_strike_time != globals.get_strike_time):\n",
    "                print(f'Get strike time has been set to {globals.get_strike_time}')\n",
    "                pre_get_strike_time = globals.get_strike_time\n",
    "\n",
    "            time.sleep(1)\n",
    "\n"
   ]
  },
  {
   "cell_type": "code",
   "execution_count": 3,
   "metadata": {},
   "outputs": [],
   "source": [
    "def update_snap_options():\n",
    "    \"\"\"\n",
    "    Threading function.\n",
    "    每秒偵測,若現在時間符合get_strike_time, 則找尋當下價平 \n",
    "    \n",
    "    :global param: get_strike_time\n",
    "    :return: None\n",
    "    \"\"\"\n",
    "\n",
    "    while(True): \n",
    "        now = datetime.datetime.now()\n",
    "        \n",
    "        if(now.time().replace(microsecond=0) == globals.get_strike_time):\n",
    "            snap.get_snap_options()\n",
    "            snap.get_at_the_money_info()\n",
    "            print(\"現在價平和之檔位及成交點數和: \", globals.at_the_money_code, globals.at_the_money)\n",
    "\n",
    "        time.sleep(1)"
   ]
  },
  {
   "cell_type": "code",
   "execution_count": 4,
   "metadata": {},
   "outputs": [],
   "source": [
    "def place_cb(stat, msg):\n",
    "    \"\"\"\n",
    "    Called every time an order or a deal has been detected.\n",
    "    \n",
    "    :global param: msg_list ()\n",
    "\n",
    "    return: none\n",
    "    \"\"\"\n",
    "    print('my_place_callback')"
   ]
  },
  {
   "cell_type": "code",
   "execution_count": 5,
   "metadata": {},
   "outputs": [],
   "source": [
    "def main():\n",
    "    \"\"\"\n",
    "    Controlled whole program, make app execute.\n",
    "    \n",
    "    :global param: api\n",
    "    \"\"\"\n",
    "    # initialize all global variables\n",
    "    globals.initialize()\n",
    "\n",
    "    # log in\n",
    "    globals.api = shioaji_login.login()\n",
    "    globals.api.set_order_callback(place_cb)\n",
    "\n",
    "    # Start update config thread. All config variable will be updated every second.\n",
    "    update_config_thread = threading.Thread(target = update_config)\n",
    "    update_config_thread.start()\n",
    "    time.sleep(1)\n",
    "\n",
    "    update_snap_options_thread = threading.Thread(target = update_snap_options)\n",
    "    update_snap_options_thread.start()\n",
    "    time.sleep(1)\n",
    "\n",
    "    snap.get_snap_options()\n",
    "    snap.get_at_the_money_info()\n",
    "    print(\"現在價平和之檔位及成交點數和: \", globals.at_the_money_code, globals.at_the_money)\n",
    "    \n",
    "    # print(api.Contracts.Options.TX4)\n",
    "\n"
   ]
  },
  {
   "cell_type": "code",
   "execution_count": 6,
   "metadata": {},
   "outputs": [
    {
     "name": "stdout",
     "output_type": "stream",
     "text": [
      "Response Code: 0 | Event Code: 0 | Info: host '203.66.91.161:80', hostname '203.66.91.161:80' IP 203.66.91.161:80 (host 1 of 1) (host connection attempt 1 of 1) (total connection attempt 1 of 1) | Event: Session up\n",
      "Login with ID R124743829\n",
      "Login status: [FutureAccount(person_id='R124743829', broker_id='F002000', account_id='1697256', signed=True, username='劉庭銘'), Account(account_type=<AccountType.H: 'H'>, person_id='R124743829', broker_id='9A9X', account_id='0150198', username='劉庭銘\\u3000\\u3000\\u3000\\u3000\\u3000\\u3000\\u3000\\u3000\\u3000\\u3000\\u3000\\u3000'), StockAccount(person_id='R124743829', broker_id='9A9X', account_id='0510980', signed=True, username='劉庭銘\\u3000\\u3000')]\n",
      "Activating CA at the path C:/sinopac/Sinopac.pfx\n",
      "\n",
      "\n",
      "Get strike time has been set to 21:01:00\n",
      "現在價平和之檔位及成交點數和:  TX514600 153.0\n"
     ]
    }
   ],
   "source": [
    "if __name__ == \"__main__\":\n",
    "    main() "
   ]
  },
  {
   "cell_type": "code",
   "execution_count": 7,
   "metadata": {},
   "outputs": [
    {
     "data": {
      "text/plain": [
       "Snapshot(ts=1669642405000000000, code='001', exchange='TSE', open=14636.9, high=14638.19, low=14503.12, close=14556.87, tick_type=<TickType.No: 'None'>, change_price=-221.64, change_rate=-1.49, change_type=<ChangeType.Down: 'Down'>, average_price=0.0, volume=273359, total_volume=5198623, amount=17818304470, total_amount=198444220210, yesterday_volume=5324111.0, buy_price=0.0, buy_volume=0.0, sell_price=0.0, sell_volume=0, volume_ratio=0.98)"
      ]
     },
     "execution_count": 7,
     "metadata": {},
     "output_type": "execute_result"
    },
    {
     "name": "stdout",
     "output_type": "stream",
     "text": [
      "Get strike time has been set to 21:02:00\n",
      "現在價平和之檔位及成交點數和:  TX514600 153.0\n",
      "Get strike time has been set to 21:05:00\n",
      "現在價平和之檔位及成交點數和:  TX514600 153.0\n"
     ]
    }
   ],
   "source": [
    "globals.api.snapshots([globals.api.Contracts.Indexs.TSE.TSE001])[0]"
   ]
  }
 ],
 "metadata": {
  "kernelspec": {
   "display_name": "shioaji-option",
   "language": "python",
   "name": "python3"
  },
  "language_info": {
   "codemirror_mode": {
    "name": "ipython",
    "version": 3
   },
   "file_extension": ".py",
   "mimetype": "text/x-python",
   "name": "python",
   "nbconvert_exporter": "python",
   "pygments_lexer": "ipython3",
   "version": "3.9.7"
  },
  "orig_nbformat": 4,
  "vscode": {
   "interpreter": {
    "hash": "2dcec2859f09f9aa93c3bc4f9e8c5aaba59ac2207882fb5a8dbe04739cc186d2"
   }
  }
 },
 "nbformat": 4,
 "nbformat_minor": 2
}
