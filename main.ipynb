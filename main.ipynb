{
 "cells": [
  {
   "cell_type": "code",
   "execution_count": 1,
   "metadata": {},
   "outputs": [],
   "source": [
    "#!/usr/bin/env python3\n",
    "# -*- coding: utf-8 -*-\n",
    "import importlib\n",
    "import time\n",
    "import datetime\n",
    "import json\n",
    "import threading\n",
    "\n",
    "import shioaji as sj\n",
    "import login.shioaji_login as shioaji_login\n",
    "from shioaji.constant import Action, OptionRight, StockPriceType, FuturesOrderType, FuturesOCType #選擇權下單，多匯入一個OptionRight常數\n",
    "importlib.reload(shioaji_login)\n",
    "\n",
    "import tools.globals as globals\n",
    "import tools.get_snap_options as snap\n",
    "import tools.message_log as message_log\n",
    "import tools.get_positions as positions"
   ]
  },
  {
   "cell_type": "code",
   "execution_count": 2,
   "metadata": {},
   "outputs": [],
   "source": [
    "def update_config():\n",
    "    \"\"\"\n",
    "    Threading function.\n",
    "    每秒更新config相關參數\n",
    "    \n",
    "    :global param: get_strike_time\n",
    "    :return: None\n",
    "    \"\"\"\n",
    "\n",
    "    pre_get_strike_time = None\n",
    "    pre_simulation_mode = None\n",
    "    pre_simulation_optionright = None\n",
    "    pre_simulation_quantity = None\n",
    "    pre_simulation_action = None\n",
    "    \n",
    "    while(True):\n",
    "\n",
    "        with open('config.json') as f:\n",
    "            config_data = json.load(f)\n",
    "\n",
    "            globals.get_strike_time =  datetime.datetime.strptime(config_data['get_strike_time'], '%H:%M:%S').time()\n",
    "\n",
    "            ### set simulation ###\n",
    "            if config_data['simulation_mode'].lower() == \"false\":\n",
    "                globals.simulation_mode = False\n",
    "            else:\n",
    "                globals.simulation_mode = True\n",
    "\n",
    "            if config_data['simulation_optionright'].lower() == \"c\":\n",
    "                globals.simulation_optionright = 'C'\n",
    "            else:\n",
    "                globals.simulation_optionright = 'P'\n",
    "\n",
    "            if config_data['simulation_action'].lower() == \"buy\":\n",
    "                globals.simulation_action = 'Buy'\n",
    "            else:\n",
    "                globals.simulation_action = 'Sell'\n",
    "\n",
    "            globals.simulation_quantity = config_data['simulation_quantity']\n",
    "            \n",
    "            ### detect ###\n",
    "            if(pre_get_strike_time != globals.get_strike_time):\n",
    "                print(f'Get strike time has been set to {globals.get_strike_time}')\n",
    "                pre_get_strike_time = globals.get_strike_time\n",
    "\n",
    "            if(pre_simulation_mode != globals.simulation_mode):\n",
    "                print(f'simulation_mode has been set to {globals.simulation_mode}')\n",
    "                pre_simulation_mode = globals.simulation_mode\n",
    "\n",
    "            if(pre_simulation_optionright != globals.simulation_optionright):\n",
    "                print(f'simulation_optionright has been set to {globals.simulation_optionright}')\n",
    "                pre_simulation_optionright = globals.simulation_optionright\n",
    "\n",
    "            if(pre_simulation_action != globals.simulation_action):\n",
    "                print(f'simulation_action has been set to {globals.simulation_action}')\n",
    "                pre_simulation_action = globals.simulation_action\n",
    "\n",
    "            if(pre_simulation_quantity != globals.simulation_quantity):\n",
    "                print(f'simulation_quantity has been set to {globals.simulation_quantity}')\n",
    "                pre_simulation_quantity = globals.simulation_quantity\n",
    "\n",
    "            time.sleep(1)\n",
    "\n"
   ]
  },
  {
   "cell_type": "code",
   "execution_count": 3,
   "metadata": {},
   "outputs": [],
   "source": [
    "def update_snap_options():\n",
    "    \"\"\"\n",
    "    Threading function.\n",
    "    每秒偵測,若現在時間符合get_strike_time, 則找尋當下價平 \n",
    "    且若simulation_mode為True則下模擬單\n",
    "    \n",
    "    :global param: get_strike_time\n",
    "    :global param: simulation_mode\n",
    "    :return: None\n",
    "    \"\"\"\n",
    "\n",
    "    while(True): \n",
    "        now = datetime.datetime.now()\n",
    "        \n",
    "        if(now.time().replace(microsecond=0) == globals.get_strike_time):\n",
    "            snap.get_snap_options()\n",
    "            snap.get_at_the_money_info()\n",
    "            print(\"現在價平和之檔位及成交點數和: \", globals.at_the_money_code, globals.at_the_money)\n",
    "\n",
    "            if globals.simulation_mode:\n",
    "                option_code = globals.at_the_money_code +  snap.get_option_code(globals.simulation_optionright)\n",
    "                positions.place_order(globals.simulation_quantity, option_code, globals.simulation_optionright, globals.simulation_action)\n",
    "\n",
    "        time.sleep(1)"
   ]
  },
  {
   "cell_type": "code",
   "execution_count": 4,
   "metadata": {},
   "outputs": [],
   "source": [
    "def load_position():\n",
    "    # 取得Position \n",
    "    globals.position = globals.api.list_positions(globals.api.futopt_account)\n",
    "\n",
    "    if len(globals.position) == 0:\n",
    "        print(\"None\")"
   ]
  },
  {
   "cell_type": "code",
   "execution_count": 5,
   "metadata": {},
   "outputs": [],
   "source": [
    "def main():\n",
    "    \"\"\"\n",
    "    Controlled whole program, make app execute.\n",
    "    \n",
    "    :global param: api\n",
    "    \"\"\"\n",
    "    # initialize all global variables\n",
    "    globals.initialize()\n",
    "\n",
    "    # load_position()\n",
    "\n",
    "    # log in\n",
    "    globals.api = shioaji_login.login()\n",
    "    globals.api.set_order_callback(positions.place_cb)\n",
    "\n",
    "    # Start update config thread. All config variable will be updated every second.\n",
    "    update_config_thread = threading.Thread(target = update_config)\n",
    "    update_config_thread.start()\n",
    "    time.sleep(1)\n",
    "\n",
    "    update_snap_options_thread = threading.Thread(target = update_snap_options)\n",
    "    update_snap_options_thread.start()\n",
    "    time.sleep(1)\n",
    "\n",
    "    snap.get_snap_options()\n",
    "    snap.get_at_the_money_info()\n",
    "    print(\"現在價平和之檔位及成交點數和: \", globals.at_the_money_code, globals.at_the_money)\n",
    "    \n",
    "    # print(api.Contracts.Options.TX4)\n",
    "\n"
   ]
  },
  {
   "cell_type": "code",
   "execution_count": 6,
   "metadata": {},
   "outputs": [
    {
     "name": "stdout",
     "output_type": "stream",
     "text": [
      "Response Code: 0 | Event Code: 0 | Info: host '203.66.91.161:80', hostname '203.66.91.161:80' IP 203.66.91.161:80 (host 1 of 1) (host connection attempt 1 of 1) (total connection attempt 1 of 1) | Event: Session up\n",
      "Login with ID R124743829\n",
      "Login status: [FutureAccount(person_id='R124743829', broker_id='F002000', account_id='1697256', signed=True, username='劉庭銘'), Account(account_type=<AccountType.H: 'H'>, person_id='R124743829', broker_id='9A9X', account_id='0150198', username='劉庭銘\\u3000\\u3000\\u3000\\u3000\\u3000\\u3000\\u3000\\u3000\\u3000\\u3000\\u3000\\u3000'), StockAccount(person_id='R124743829', broker_id='9A9X', account_id='0510980', signed=True, username='劉庭銘\\u3000\\u3000')]\n",
      "Activating CA at the path C:/sinopac/Sinopac.pfx\n",
      "\n",
      "\n",
      "Get strike time has been set to 20:16:00\n",
      "simulation_mode has been set to True\n",
      "現在價平和之檔位及成交點數和:  TX114950 166.0\n"
     ]
    }
   ],
   "source": [
    "if __name__ == \"__main__\":\n",
    "    main() "
   ]
  },
  {
   "cell_type": "code",
   "execution_count": null,
   "metadata": {},
   "outputs": [],
   "source": []
  },
  {
   "cell_type": "code",
   "execution_count": 7,
   "metadata": {},
   "outputs": [
    {
     "name": "stdout",
     "output_type": "stream",
     "text": [
      "現在價平和之檔位及成交點數和:  TX114950 166.0\n",
      "A deal has been detected.\n",
      "Deal information: code:TX114950L2, action:Buy, price:88, quantity:1, optionright:C\n",
      "Delivery month:202212, security type: OPT\n",
      "***\n",
      "A position with type=Buy Call, quantity=1, price=88 has been recorded!\n",
      "\n",
      "***\n",
      "\n",
      "***\n",
      "A position with type=Buy Call, quantity=1, price=88 has been added to the track list!\n",
      "\n",
      "***\n",
      "\n"
     ]
    }
   ],
   "source": [
    "# 目前欲實現進度: 在get_strike_time抓到價平後下模擬單，並在達到停損條件後(成交價or強制平倉時間)出掉"
   ]
  }
 ],
 "metadata": {
  "kernelspec": {
   "display_name": "shioaji-option",
   "language": "python",
   "name": "python3"
  },
  "language_info": {
   "codemirror_mode": {
    "name": "ipython",
    "version": 3
   },
   "file_extension": ".py",
   "mimetype": "text/x-python",
   "name": "python",
   "nbconvert_exporter": "python",
   "pygments_lexer": "ipython3",
   "version": "3.9.7"
  },
  "orig_nbformat": 4,
  "vscode": {
   "interpreter": {
    "hash": "2dcec2859f09f9aa93c3bc4f9e8c5aaba59ac2207882fb5a8dbe04739cc186d2"
   }
  }
 },
 "nbformat": 4,
 "nbformat_minor": 2
}
