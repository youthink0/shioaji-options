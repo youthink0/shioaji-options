{
 "cells": [
  {
   "cell_type": "code",
   "execution_count": null,
   "metadata": {},
   "outputs": [],
   "source": [
    "import tools.globals as globals\n",
    "\n",
    "a = []\n",
    "\n",
    "if len(a) == 0:\n",
    "    print(\"good\")"
   ]
  },
  {
   "cell_type": "code",
   "execution_count": null,
   "metadata": {},
   "outputs": [],
   "source": [
    "#選擇權下單範例\n",
    "\n",
    "# 步驟\n",
    "# 取得帳戶資訊\n",
    "# 確立合約\n",
    "# 確立order\n",
    "# 送出order\n",
    " \n",
    "# globals.position = globals.api.list_positions(globals.api.futopt_account)\n",
    "# Offset.CLOSE: A closing offset (CO) order is a limit order that is executed at market close but can be placed anytime during the trading day. \n",
    "\n",
    "import shioaji as sj\n",
    "from shioaji.constant import Action, OptionRight, StockPriceType, FuturesOrderType, FuturesOCType #選擇權下單，多匯入一個OptionRight常數\n",
    "\n",
    "api = sj.Shioaji(simulation=True)\n",
    "api.login(\n",
    "    person_id='PAPIUSER06', \n",
    "    passwd='2222'\n",
    ")\n",
    "\n",
    "#contract = globals.api.Contracts.Options[option_code] #選擇權Contract\n",
    "contract = globals.api.Contracts.Options.TXO.TXO202110017500C #選擇權Contract\n",
    "order = globals.api.Order(\n",
    "    action=Action.Buy,\n",
    "    price=170, #價格\n",
    "    quantity=2, #口數\n",
    "    price_type=StockPriceType.LMT, #MKT: 市價 LMT: 限價\n",
    "    order_type=FuturesOrderType.ROD,\n",
    "    octype=FuturesOCType.Cover, #倉別，收盤時平倉\n",
    "    OptionRight=OptionRight.Call, #選擇權類型\n",
    "    account=globals.api.futopt_account #下單帳戶指定期貨帳戶\n",
    ")\n",
    "\n",
    "trade = globals.api.place_order(contract, order)\n",
    "print(trade)"
   ]
  }
 ],
 "metadata": {
  "kernelspec": {
   "display_name": "shioaji-option",
   "language": "python",
   "name": "python3"
  },
  "language_info": {
   "codemirror_mode": {
    "name": "ipython",
    "version": 3
   },
   "file_extension": ".py",
   "mimetype": "text/x-python",
   "name": "python",
   "nbconvert_exporter": "python",
   "pygments_lexer": "ipython3",
   "version": "3.9.7"
  },
  "orig_nbformat": 4,
  "vscode": {
   "interpreter": {
    "hash": "2dcec2859f09f9aa93c3bc4f9e8c5aaba59ac2207882fb5a8dbe04739cc186d2"
   }
  }
 },
 "nbformat": 4,
 "nbformat_minor": 2
}
