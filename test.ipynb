{
 "cells": [
  {
   "cell_type": "code",
   "execution_count": 1,
   "metadata": {},
   "outputs": [
    {
     "data": {
      "text/plain": [
       "{}"
      ]
     },
     "execution_count": 1,
     "metadata": {},
     "output_type": "execute_result"
    }
   ],
   "source": [
    "import tools.globals as globals\n",
    "\n",
    "globals.initialize()\n",
    "\n",
    "globals.txo_weekly_dict"
   ]
  }
 ],
 "metadata": {
  "kernelspec": {
   "display_name": "shioaji-option",
   "language": "python",
   "name": "python3"
  },
  "language_info": {
   "codemirror_mode": {
    "name": "ipython",
    "version": 3
   },
   "file_extension": ".py",
   "mimetype": "text/x-python",
   "name": "python",
   "nbconvert_exporter": "python",
   "pygments_lexer": "ipython3",
   "version": "3.9.7"
  },
  "orig_nbformat": 4,
  "vscode": {
   "interpreter": {
    "hash": "2dcec2859f09f9aa93c3bc4f9e8c5aaba59ac2207882fb5a8dbe04739cc186d2"
   }
  }
 },
 "nbformat": 4,
 "nbformat_minor": 2
}
