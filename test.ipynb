{
 "cells": [
  {
   "cell_type": "code",
   "execution_count": null,
   "metadata": {},
   "outputs": [],
   "source": [
    "import tools.globals as globals\n",
    "\n",
    "a = []\n",
    "\n",
    "if len(a) == 0:\n",
    "    print(\"good\")"
   ]
  },
  {
   "cell_type": "code",
   "execution_count": null,
   "metadata": {},
   "outputs": [],
   "source": [
    "#選擇權下單範例\n",
    "\n",
    "# 步驟\n",
    "# 取得帳戶資訊\n",
    "# 確立合約\n",
    "# 確立order\n",
    "# 送出order\n",
    " \n",
    "# globals.position = globals.api.list_positions(globals.api.futopt_account)\n",
    "# Offset.CLOSE: A closing offset (CO) order is a limit order that is executed at market close but can be placed anytime during the trading day. \n",
    "\n",
    "import shioaji as sj\n",
    "from shioaji.constant import Action, OptionRight, StockPriceType, FuturesOrderType, FuturesOCType #選擇權下單，多匯入一個OptionRight常數\n",
    "\n",
    "api = sj.Shioaji(simulation=True)\n",
    "api.login(\n",
    "    person_id='R124743829', \n",
    "    passwd='366375Dauhui'\n",
    ")\n",
    "\n",
    "#contract = globals.api.Contracts.Options[option_code] #選擇權Contract\n",
    "contract = api.Contracts.Options['TXO15000L2'] #選擇權Contract\n",
    "order = api.Order(\n",
    "    action=Action.Buy,\n",
    "    price=170, #價格\n",
    "    quantity=2, #口數\n",
    "    price_type=StockPriceType.LMT, #MKT: 市價 LMT: 限價\n",
    "    order_type=FuturesOrderType.ROD,\n",
    "    octype=FuturesOCType.Cover, #倉別，收盤時平倉\n",
    "    OptionRight=OptionRight.Call, #選擇權類型\n",
    "    account=api.futopt_account #下單帳戶指定期貨帳戶\n",
    ")\n",
    "\n",
    "trade = api.place_order(contract, order)\n",
    "print(trade)"
   ]
  },
  {
   "cell_type": "code",
   "execution_count": null,
   "metadata": {},
   "outputs": [],
   "source": [
    "option_code = globals.at_the_money_code +  snap.get_option_code(globals.simulation_optionright)\n",
    "print(option_code)\n",
    "globals.contract = positions.fill_contract(option_code)\n",
    "\n",
    "# Subscribe to the close price of the contract\n",
    "# contract will be ordered in third BidAsk\n",
    "# Subscribe to the close price of the contract\n",
    "globals.api.quote.subscribe(\n",
    "    globals.contract,\n",
    "    quote_type = sj.constant.QuoteType.BidAsk, # or 'bidask'\n",
    "    version = sj.constant.QuoteVersion.v1, # or 'v1'\n",
    ")\n",
    "\n",
    "@globals.api.on_bidask_fop_v1()\n",
    "def quote_callback(exchange:sj.Exchange, bidask:BidAskFOPv1):\n",
    "    #always avoid making calulations inside the callback function.\n",
    "    \"\"\"\n",
    "    Quoting subscribe function. It is called every tick(theoretically)\n",
    "\n",
    "    :global param: contract (str)\n",
    "    :global param: third_best_buy_price (int)\n",
    "    :global param: third_best_sell_price (int)\n",
    "    :return: None\n",
    "    \"\"\"\n",
    "    print(\"ask_price: \", bidask['ask_price'], \"bid_price: \", bidask['bid_price'])\n",
    "\n",
    "    # 取第三檔掛單價格，是為了避免夜盤時價差太大可能造成的風險\n",
    "    globals.third_best_buy_price = bidask['ask_price'][2] # 第三檔之最佳買價\n",
    "    globals.third_best_sell_price = bidask['bid_price'][2] # 第三檔之最佳買賣價"
   ]
  }
 ],
 "metadata": {
  "kernelspec": {
   "display_name": "shioaji-option",
   "language": "python",
   "name": "python3"
  },
  "language_info": {
   "codemirror_mode": {
    "name": "ipython",
    "version": 3
   },
   "file_extension": ".py",
   "mimetype": "text/x-python",
   "name": "python",
   "nbconvert_exporter": "python",
   "pygments_lexer": "ipython3",
   "version": "3.9.7"
  },
  "orig_nbformat": 4,
  "vscode": {
   "interpreter": {
    "hash": "2dcec2859f09f9aa93c3bc4f9e8c5aaba59ac2207882fb5a8dbe04739cc186d2"
   }
  }
 },
 "nbformat": 4,
 "nbformat_minor": 2
}
