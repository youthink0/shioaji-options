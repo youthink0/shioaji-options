{
 "cells": [
  {
   "cell_type": "code",
   "execution_count": null,
   "metadata": {},
   "outputs": [],
   "source": [
    "import datetime\n",
    "now = datetime.datetime.now()\n",
    "month = now.month\n",
    "month\n",
    "\n",
    "if 2 != 3:\n",
    "    print(\"good\")"
   ]
  },
  {
   "cell_type": "code",
   "execution_count": null,
   "metadata": {},
   "outputs": [],
   "source": [
    "#選擇權下單範例\n",
    "\n",
    "# 步驟\n",
    "# 取得帳戶資訊\n",
    "# 確立合約\n",
    "# 確立order\n",
    "# 送出order\n",
    " \n",
    "# globals.position = globals.api.list_positions(globals.api.futopt_account)\n",
    "# Offset.CLOSE: A closing offset (CO) order is a limit order that is executed at market close but can be placed anytime during the trading day. \n",
    "\n",
    "import shioaji as sj\n",
    "from shioaji.constant import Action, OptionRight, StockPriceType, FuturesOrderType, FuturesOCType #選擇權下單，多匯入一個OptionRight常數\n",
    "\n",
    "api = sj.Shioaji()\n",
    "api.login(\n",
    "    person_id='R124743829', \n",
    "    passwd='366375Dauhui'\n",
    ")\n",
    "\n",
    "#contract = globals.api.Contracts.Options[option_code] #選擇權Contract\n",
    "contract = api.Contracts.Options['TXO14550L2'] #選擇權Contract\n",
    "contract_snap = api.snapshots([contract])\n",
    "print(contract_snap)\n",
    "order = api.Order(\n",
    "    action=Action.Buy,\n",
    "    price=170, #價格\n",
    "    quantity=2, #口數\n",
    "    price_type=StockPriceType.LMT, #MKT: 市價 LMT: 限價\n",
    "    order_type=FuturesOrderType.ROD,\n",
    "    octype=FuturesOCType.Cover, #倉別，收盤時平倉\n",
    "    OptionRight=OptionRight.Call, #選擇權類型\n",
    "    account=api.futopt_account #下單帳戶指定期貨帳戶\n",
    ")\n",
    "\n",
    "#trade = api.place_order(contract, order)\n",
    "#print(type(trade))\n",
    "\n",
    "\n",
    "snapshots = api.snapshots([api.Contracts.Options.TXO.TXO20221214550C])\n",
    "snapshots"
   ]
  },
  {
   "cell_type": "code",
   "execution_count": null,
   "metadata": {},
   "outputs": [],
   "source": [
    "# -*- coding: utf-8 -*-\n",
    "\n",
    "import importlib\n",
    "import shioaji as sj\n",
    "import login.shioaji_login as shioaji_login\n",
    "from shioaji import BidAskFOPv1\n",
    "# from shioaji.constant import Action, OptionRight, StockPriceType, FuturesOrderType, FuturesOCType #選擇權下單，多匯入一個OptionRight常數\n",
    "importlib.reload(shioaji_login)\n",
    "\n",
    "api = shioaji_login.login()\n",
    "\n",
    "contract = api.Contracts.Options['TX215300L2']\n",
    "optionright = sj.constant.OptionRight.Call\n",
    "price = 0.5\n",
    "    \n",
    "order = api.Order(\n",
    "    action=sj.constant.Action.Buy,\n",
    "    price=price,\n",
    "    quantity=1, #口數\n",
    "    price_type=sj.constant.StockPriceType.LMT, #MKT: 市價 LMT: 限價\n",
    "    order_type=sj.constant.FuturesOrderType.IOC, # 立即成交否則取消\n",
    "    octype=sj.constant.FuturesOCType.Cover, #倉別，收盤時平倉\n",
    "    OptionRight=optionright, #選擇權類型\n",
    "    account=api.futopt_account #下單帳戶指定期貨帳戶\n",
    ")\n",
    "\n",
    "trade = api.place_order(contract, order)\n",
    "trade.status.status"
   ]
  },
  {
   "cell_type": "code",
   "execution_count": null,
   "metadata": {},
   "outputs": [],
   "source": [
    "import pandas as pd\n",
    "if trade.status.status == 'PendingSubmit':\n",
    "    print(\"test\")\n",
    "positions = api.get_account_openposition(account=api.futopt_account)\n",
    "df_positions = pd.DataFrame(positions.data())\n",
    "if df_positions.empty:\n",
    "    print(\"test\")"
   ]
  }
 ],
 "metadata": {
  "kernelspec": {
   "display_name": "shioaji-option",
   "language": "python",
   "name": "python3"
  },
  "language_info": {
   "codemirror_mode": {
    "name": "ipython",
    "version": 3
   },
   "file_extension": ".py",
   "mimetype": "text/x-python",
   "name": "python",
   "nbconvert_exporter": "python",
   "pygments_lexer": "ipython3",
   "version": "3.9.7"
  },
  "orig_nbformat": 4,
  "vscode": {
   "interpreter": {
    "hash": "2dcec2859f09f9aa93c3bc4f9e8c5aaba59ac2207882fb5a8dbe04739cc186d2"
   }
  }
 },
 "nbformat": 4,
 "nbformat_minor": 2
}
